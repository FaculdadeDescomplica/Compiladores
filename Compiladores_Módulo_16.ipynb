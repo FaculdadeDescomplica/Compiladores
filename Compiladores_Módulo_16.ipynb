{
  "nbformat": 4,
  "nbformat_minor": 0,
  "metadata": {
    "colab": {
      "provenance": []
    },
    "kernelspec": {
      "name": "python3",
      "display_name": "Python 3"
    },
    "language_info": {
      "name": "python"
    }
  },
  "cells": [
    {
      "cell_type": "markdown",
      "source": [
        "Refinamento (melhorias e otimizações)"
      ],
      "metadata": {
        "id": "3Kvo0fuFbUo2"
      }
    },
    {
      "cell_type": "code",
      "source": [
        "import time\n",
        "\n",
        "# Simulando um compilador simples com otimizações\n",
        "\n",
        "# Analisador Léxico (Versão simples e otimizada)\n",
        "def analisador_lexico(codigo):\n",
        "    tokens = []\n",
        "    i = 0\n",
        "    while i < len(codigo):\n",
        "        char = codigo[i]\n",
        "\n",
        "        if char.isdigit():  # Se for um número\n",
        "            num = ''\n",
        "            while i < len(codigo) and codigo[i].isdigit():\n",
        "                num += codigo[i]\n",
        "                i += 1\n",
        "            tokens.append(('NUMBER', num))\n",
        "        elif char == '+':\n",
        "            tokens.append(('PLUS', char))\n",
        "            i += 1\n",
        "        elif char == '*':\n",
        "            tokens.append(('TIMES', char))\n",
        "            i += 1\n",
        "        elif char == '(':\n",
        "            tokens.append(('LPAREN', char))\n",
        "            i += 1\n",
        "        elif char == ')':\n",
        "            tokens.append(('RPAREN', char))\n",
        "            i += 1\n",
        "        elif char == ' ':\n",
        "            i += 1\n",
        "        else:\n",
        "            raise SyntaxError(f\"Caractere inválido: {char}\")\n",
        "\n",
        "    tokens.append(('EOF', ''))  # Fim do código\n",
        "    return tokens\n",
        "\n",
        "# Exemplo de entrada\n",
        "entrada = '3 + 5 * 2'\n",
        "\n",
        "# Medindo o tempo de execução da versão otimizada\n",
        "start_time = time.time()\n",
        "tokens = analisador_lexico(entrada)\n",
        "end_time = time.time()\n",
        "\n",
        "print(f\"Tokens: {tokens}\")\n",
        "print(f\"Tempo de execução: {end_time - start_time:.6f} segundos\")\n"
      ],
      "metadata": {
        "id": "tQ9v3OHcUI6H",
        "colab": {
          "base_uri": "https://localhost:8080/"
        },
        "outputId": "c25ccea8-9ecb-4fc9-e7d3-7c148d927250"
      },
      "execution_count": 1,
      "outputs": [
        {
          "output_type": "stream",
          "name": "stdout",
          "text": [
            "Tokens: [('NUMBER', '3'), ('PLUS', '+'), ('NUMBER', '5'), ('TIMES', '*'), ('NUMBER', '2'), ('EOF', '')]\n",
            "Tempo de execução: 0.000098 segundos\n"
          ]
        }
      ]
    },
    {
      "cell_type": "markdown",
      "source": [
        "Depuração sistemática do compilador"
      ],
      "metadata": {
        "id": "cST2ZdtSUJMo"
      }
    },
    {
      "cell_type": "code",
      "source": [
        "# Função de depuração no analisador léxico\n",
        "\n",
        "def analisador_lexico(codigo):\n",
        "    tokens = []\n",
        "    i = 0\n",
        "    while i < len(codigo):\n",
        "        char = codigo[i]\n",
        "\n",
        "        print(f\"Analisando o caractere: {char}\")  # Log de depuração\n",
        "\n",
        "        if char.isdigit():\n",
        "            num = ''\n",
        "            while i < len(codigo) and codigo[i].isdigit():\n",
        "                num += codigo[i]\n",
        "                i += 1\n",
        "            tokens.append(('NUMBER', num))\n",
        "            print(f\"Token gerado: NUMBER({num})\")\n",
        "        elif char == '+':\n",
        "            tokens.append(('PLUS', char))\n",
        "            i += 1\n",
        "            print(f\"Token gerado: PLUS(+)\")\n",
        "        elif char == '*':\n",
        "            tokens.append(('TIMES', char))\n",
        "            i += 1\n",
        "            print(f\"Token gerado: TIMES(*)\")\n",
        "        elif char == '(':\n",
        "            tokens.append(('LPAREN', char))\n",
        "            i += 1\n",
        "            print(f\"Token gerado: LPAREN(()\")\n",
        "        elif char == ')':\n",
        "            tokens.append(('RPAREN', char))\n",
        "            i += 1\n",
        "            print(f\"Token gerado: RPAREN())\")\n",
        "        elif char == ' ':\n",
        "            i += 1\n",
        "        else:\n",
        "            raise SyntaxError(f\"Caractere inválido: {char}\")\n",
        "\n",
        "    tokens.append(('EOF', ''))  # Fim do código\n",
        "    return tokens\n",
        "\n",
        "# Exemplo de entrada com depuração\n",
        "entrada = '3 + 5 * 2'\n",
        "\n",
        "tokens = analisador_lexico(entrada)\n",
        "print(f\"Tokens gerados: {tokens}\")\n"
      ],
      "metadata": {
        "id": "T4L9gkgGUK-K",
        "colab": {
          "base_uri": "https://localhost:8080/"
        },
        "outputId": "82394502-b7d9-4169-e62f-639b284dc2b2"
      },
      "execution_count": 2,
      "outputs": [
        {
          "output_type": "stream",
          "name": "stdout",
          "text": [
            "Analisando o caractere: 3\n",
            "Token gerado: NUMBER(3)\n",
            "Analisando o caractere:  \n",
            "Analisando o caractere: +\n",
            "Token gerado: PLUS(+)\n",
            "Analisando o caractere:  \n",
            "Analisando o caractere: 5\n",
            "Token gerado: NUMBER(5)\n",
            "Analisando o caractere:  \n",
            "Analisando o caractere: *\n",
            "Token gerado: TIMES(*)\n",
            "Analisando o caractere:  \n",
            "Analisando o caractere: 2\n",
            "Token gerado: NUMBER(2)\n",
            "Tokens gerados: [('NUMBER', '3'), ('PLUS', '+'), ('NUMBER', '5'), ('TIMES', '*'), ('NUMBER', '2'), ('EOF', '')]\n"
          ]
        }
      ]
    },
    {
      "cell_type": "markdown",
      "source": [
        "Interface final (CLI simples) e argumentos"
      ],
      "metadata": {
        "id": "dCI2SB4lUM1c"
      }
    },
    {
      "cell_type": "code",
      "source": [
        "import argparse\n",
        "\n",
        "# Função de análise léxica simples\n",
        "def analisador_lexico(codigo):\n",
        "    tokens = []\n",
        "    i = 0\n",
        "    while i < len(codigo):\n",
        "        char = codigo[i]\n",
        "        if char.isdigit():\n",
        "            num = ''\n",
        "            while i < len(codigo) and codigo[i].isdigit():\n",
        "                num += codigo[i]\n",
        "                i += 1\n",
        "            tokens.append(('NUMBER', num))\n",
        "        elif char == '+':\n",
        "            tokens.append(('PLUS', char))\n",
        "            i += 1\n",
        "        elif char == '*':\n",
        "            tokens.append(('TIMES', char))\n",
        "            i += 1\n",
        "        elif char == '(':\n",
        "            tokens.append(('LPAREN', char))\n",
        "            i += 1\n",
        "        elif char == ')':\n",
        "            tokens.append(('RPAREN', char))\n",
        "            i += 1\n",
        "        elif char == ' ':\n",
        "            i += 1\n",
        "        else:\n",
        "            raise SyntaxError(f\"Caractere inválido: {char}\")\n",
        "\n",
        "    tokens.append(('EOF', ''))  # Fim do código\n",
        "    return tokens\n",
        "\n",
        "# Função para simular a execução com argumentos via linha de comando\n",
        "def main(codigo):\n",
        "    print(f\"Código fonte a ser compilado: {codigo}\")\n",
        "    tokens = analisador_lexico(codigo)\n",
        "    print(f\"Tokens gerados: {tokens}\")\n",
        "\n",
        "# Simulação dos argumentos no Google Colab\n",
        "entrada = '3 + 5 * 2'  # Exemplo de código fornecido como entrada\n",
        "main(entrada)\n"
      ],
      "metadata": {
        "id": "4qf7JVS8UNIe",
        "colab": {
          "base_uri": "https://localhost:8080/"
        },
        "outputId": "d2354dfa-de0d-4643-f4bb-cd11318e22bc"
      },
      "execution_count": 6,
      "outputs": [
        {
          "output_type": "stream",
          "name": "stdout",
          "text": [
            "Código fonte a ser compilado: 3 + 5 * 2\n",
            "Tokens gerados: [('NUMBER', '3'), ('PLUS', '+'), ('NUMBER', '5'), ('TIMES', '*'), ('NUMBER', '2'), ('EOF', '')]\n"
          ]
        }
      ]
    },
    {
      "cell_type": "markdown",
      "source": [
        "Testes de validação"
      ],
      "metadata": {
        "id": "ZHkQc4sjUOjE"
      }
    },
    {
      "cell_type": "code",
      "source": [
        "import pytest\n",
        "\n",
        "# Função de análise léxica\n",
        "def analisador_lexico(codigo):\n",
        "    tokens = []\n",
        "    i = 0\n",
        "    while i < len(codigo):\n",
        "        char = codigo[i]\n",
        "        if char.isdigit():\n",
        "            num = ''\n",
        "            while i < len(codigo) and codigo[i].isdigit():\n",
        "                num += codigo[i]\n",
        "                i += 1\n",
        "            tokens.append(('NUMBER', num))\n",
        "        elif char == '+':\n",
        "            tokens.append(('PLUS', char))\n",
        "            i += 1\n",
        "        elif char == '*':\n",
        "            tokens.append(('TIMES', char))\n",
        "            i += 1\n",
        "        elif char == '(':\n",
        "            tokens.append(('LPAREN', char))\n",
        "            i += 1\n",
        "        elif char == ')':\n",
        "            tokens.append(('RPAREN', char))\n",
        "            i += 1\n",
        "        elif char == ' ':\n",
        "            i += 1\n",
        "        else:\n",
        "            raise SyntaxError(f\"Caractere inválido: {char}\")\n",
        "\n",
        "    tokens.append(('EOF', ''))  # Fim do código\n",
        "    return tokens\n",
        "\n",
        "# Testes de validação com pytest\n",
        "def test_analisador_lexico():\n",
        "    assert analisador_lexico('3 + 5 * 2') == [('NUMBER', '3'), ('PLUS', '+'), ('NUMBER', '5'), ('TIMES', '*'), ('NUMBER', '2'), ('EOF', '')]\n",
        "    assert analisador_lexico('10 + 20') == [('NUMBER', '10'), ('PLUS', '+'), ('NUMBER', '20'), ('EOF', '')]\n",
        "\n",
        "# Executando os testes\n",
        "pytest.main()\n"
      ],
      "metadata": {
        "id": "SNedzfDmUPB4",
        "colab": {
          "base_uri": "https://localhost:8080/"
        },
        "outputId": "14fe7d09-d030-475f-e5ea-875dcaa8b634"
      },
      "execution_count": 4,
      "outputs": [
        {
          "output_type": "stream",
          "name": "stderr",
          "text": [
            "ERROR: usage: colab_kernel_launcher.py [options] [file_or_dir] [file_or_dir] [...]\n",
            "colab_kernel_launcher.py: error: unrecognized arguments: -f\n",
            "  inifile: None\n",
            "  rootdir: /root/.local/share/jupyter/runtime\n",
            "\n"
          ]
        },
        {
          "output_type": "execute_result",
          "data": {
            "text/plain": [
              "<ExitCode.USAGE_ERROR: 4>"
            ]
          },
          "metadata": {},
          "execution_count": 4
        }
      ]
    }
  ]
}