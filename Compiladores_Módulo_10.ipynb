{
  "nbformat": 4,
  "nbformat_minor": 0,
  "metadata": {
    "colab": {
      "provenance": []
    },
    "kernelspec": {
      "name": "python3",
      "display_name": "Python 3"
    },
    "language_info": {
      "name": "python"
    }
  },
  "cells": [
    {
      "cell_type": "markdown",
      "source": [
        "Aula 1 - Do código intermediário ao executável"
      ],
      "metadata": {
        "id": "3Kvo0fuFbUo2"
      }
    },
    {
      "cell_type": "code",
      "source": [
        "# Simulação de código intermediário (TAC) e tradução para código de máquina\n",
        "\n",
        "# Simulação do código intermediário TAC\n",
        "tac_code = [\n",
        "    \"t1 = a + b\",  # t1 = a + b\n",
        "    \"t2 = t1 * c\",  # t2 = t1 * c\n",
        "    \"result = t2 + d\"  # result = t2 + d\n",
        "]\n",
        "\n",
        "# Função para traduzir TAC para instruções de máquina (usando registradores)\n",
        "def translate_to_machine_code(tac, variables):\n",
        "    # Inicializa os registradores\n",
        "    registers = {f\"R{i}\": 0 for i in range(4)}  # Registradores R0, R1, R2, R3\n",
        "    machine_code = []  # Lista para armazenar o código de máquina gerado\n",
        "\n",
        "    # Mapear variáveis para registradores\n",
        "    memory = variables.copy()  # Inicializa a memória com as variáveis fornecidas\n",
        "\n",
        "    # Traduzir as instruções de TAC para código de máquina\n",
        "    for line in tac:\n",
        "        if '=' in line:\n",
        "            # Se a instrução for uma atribuição\n",
        "            var, expr = line.split('=')\n",
        "            var = var.strip()\n",
        "            expr = expr.strip()\n",
        "\n",
        "            if '+' in expr:  # Soma\n",
        "                left, right = expr.split('+')\n",
        "                left = memory.get(left.strip(), 0)\n",
        "                right = memory.get(right.strip(), 0)\n",
        "                registers[\"R1\"] = left + right\n",
        "                machine_code.append(f\"ADD R1, {left}, {right}  # {var} = {left} + {right}\")\n",
        "                memory[var] = registers[\"R1\"]\n",
        "\n",
        "            elif '*' in expr:  # Multiplicação\n",
        "                left, right = expr.split('*')\n",
        "                left = memory.get(left.strip(), 0)\n",
        "                right = memory.get(right.strip(), 0)\n",
        "                registers[\"R2\"] = left * right\n",
        "                machine_code.append(f\"MUL R2, {left}, {right}  # {var} = {left} * {right}\")\n",
        "                memory[var] = registers[\"R2\"]\n",
        "\n",
        "            elif expr.isdigit():  # Caso seja um número\n",
        "                registers[\"R0\"] = int(expr)\n",
        "                machine_code.append(f\"MOV R0, {expr}  # {var} = {expr}\")\n",
        "                memory[var] = registers[\"R0\"]\n",
        "\n",
        "    return machine_code, memory\n",
        "\n",
        "\n",
        "# Definindo valores iniciais das variáveis\n",
        "variables = {\n",
        "    \"a\": 5,\n",
        "    \"b\": 3,\n",
        "    \"c\": 2,\n",
        "    \"d\": 7\n",
        "}\n",
        "\n",
        "# Traduzindo o código intermediário (TAC) para código de máquina\n",
        "machine_code, final_memory = translate_to_machine_code(tac_code, variables)\n",
        "\n",
        "# Exibindo o código de máquina gerado\n",
        "print(\"Código de Máquina Gerado:\")\n",
        "for line in machine_code:\n",
        "    print(line)\n",
        "\n",
        "print(\"\\nEstado Final dos Registradores:\")\n",
        "for reg, value in final_memory.items():\n",
        "    print(f\"{reg}: {value}\")\n"
      ],
      "metadata": {
        "colab": {
          "base_uri": "https://localhost:8080/"
        },
        "id": "nKPh93mICNs6",
        "outputId": "0e903b35-1efa-4cd0-fca8-fb9c2d6925e5"
      },
      "execution_count": 1,
      "outputs": [
        {
          "output_type": "stream",
          "name": "stdout",
          "text": [
            "Código de Máquina Gerado:\n",
            "ADD R1, 5, 3  # t1 = 5 + 3\n",
            "MUL R2, 8, 2  # t2 = 8 * 2\n",
            "ADD R1, 16, 7  # result = 16 + 7\n",
            "\n",
            "Estado Final dos Registradores:\n",
            "a: 5\n",
            "b: 3\n",
            "c: 2\n",
            "d: 7\n",
            "t1: 8\n",
            "t2: 16\n",
            "result: 23\n"
          ]
        }
      ]
    },
    {
      "cell_type": "markdown",
      "source": [
        "Aula 3 - Simulando um código assembly (Colab)"
      ],
      "metadata": {
        "id": "aM-bLfLyFIo3"
      }
    },
    {
      "cell_type": "code",
      "source": [
        "# Simulador simples para código Assembly\n",
        "class SimpleVM:\n",
        "    def __init__(self):\n",
        "        self.regs = {f\"R{i}\": 0 for i in range(4)}  # Registradores R0, R1, R2, R3\n",
        "\n",
        "    def MOV(self, reg, value):\n",
        "        self.regs[reg] = value\n",
        "\n",
        "    def ADD(self, reg, reg1, reg2):\n",
        "        self.regs[reg] = self.regs[reg1] + self.regs[reg2]\n",
        "\n",
        "    def show(self):\n",
        "        return self.regs\n",
        "\n",
        "# Executando código Assembly simples\n",
        "vm = SimpleVM()\n",
        "vm.MOV(\"R1\", 5)  # R1 = 5\n",
        "vm.MOV(\"R2\", 3)  # R2 = 3\n",
        "vm.ADD(\"R3\", \"R1\", \"R2\")  # R3 = R1 + R2\n",
        "print(vm.show())  # Exibindo os valores dos registradores\n"
      ],
      "metadata": {
        "colab": {
          "base_uri": "https://localhost:8080/"
        },
        "id": "eATN01dPFK2I",
        "outputId": "2163e516-e32b-46b7-fdbb-5da2362be00c"
      },
      "execution_count": 2,
      "outputs": [
        {
          "output_type": "stream",
          "name": "stdout",
          "text": [
            "{'R0': 0, 'R1': 5, 'R2': 3, 'R3': 8}\n"
          ]
        }
      ]
    },
    {
      "cell_type": "markdown",
      "source": [
        "Aula 4 - Mapeando variáveis para registradores"
      ],
      "metadata": {
        "id": "SodIGVdWF9Vg"
      }
    },
    {
      "cell_type": "code",
      "source": [
        "# Função para simular o mapeamento de variáveis para registradores\n",
        "def map_variables_to_registers(variables, num_registers):\n",
        "    # Registradores disponíveis (R0, R1, ..., Rn-1)\n",
        "    registers = {f\"R{i}\": None for i in range(num_registers)}\n",
        "    memory = {}  # Armazena variáveis que não podem ser mapeadas para registradores\n",
        "    register_map = {}  # Mapeamento das variáveis para registradores\n",
        "\n",
        "    # Tentar mapear cada variável para um registrador\n",
        "    for var, value in variables.items():\n",
        "        # Se houver registradores disponíveis\n",
        "        assigned = False\n",
        "        for reg in registers:\n",
        "            if registers[reg] is None:  # Se o registrador estiver livre\n",
        "                registers[reg] = value\n",
        "                register_map[var] = reg\n",
        "                assigned = True\n",
        "                break\n",
        "\n",
        "        if not assigned:  # Se não for possível, move a variável para a memória (spill)\n",
        "            memory[var] = value\n",
        "\n",
        "    return register_map, registers, memory\n",
        "\n",
        "# Exemplo de variáveis e número de registradores\n",
        "variables = {\n",
        "    \"a\": 5,\n",
        "    \"b\": 3,\n",
        "    \"c\": 7,\n",
        "    \"d\": 9,\n",
        "    \"e\": 11,\n",
        "}\n",
        "\n",
        "num_registers = 3  # Número de registradores disponíveis\n",
        "\n",
        "# Mapeando as variáveis para os registradores\n",
        "register_map, registers, memory = map_variables_to_registers(variables, num_registers)\n",
        "\n",
        "# Exibindo os resultados\n",
        "print(\"Mapeamento de Variáveis para Registradores:\")\n",
        "for var, reg in register_map.items():\n",
        "    print(f\"{var} mapeado para {reg}\")\n",
        "\n",
        "print(\"\\nEstado dos Registradores:\")\n",
        "for reg, value in registers.items():\n",
        "    print(f\"{reg}: {value}\")\n",
        "\n",
        "print(\"\\nVariáveis que foram movidas para a Memória (spill):\")\n",
        "for var, value in memory.items():\n",
        "    print(f\"{var}: {value}\")"
      ],
      "metadata": {
        "colab": {
          "base_uri": "https://localhost:8080/"
        },
        "id": "ojce-tqVF-tb",
        "outputId": "7457a894-4eea-4b72-c4e4-a3ad637fee30"
      },
      "execution_count": 3,
      "outputs": [
        {
          "output_type": "stream",
          "name": "stdout",
          "text": [
            "Mapeamento de Variáveis para Registradores:\n",
            "a mapeado para R0\n",
            "b mapeado para R1\n",
            "c mapeado para R2\n",
            "\n",
            "Estado dos Registradores:\n",
            "R0: 5\n",
            "R1: 3\n",
            "R2: 7\n",
            "\n",
            "Variáveis que foram movidas para a Memória (spill):\n",
            "d: 9\n",
            "e: 11\n"
          ]
        }
      ]
    }
  ]
}