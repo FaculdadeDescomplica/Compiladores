{
  "nbformat": 4,
  "nbformat_minor": 0,
  "metadata": {
    "colab": {
      "provenance": []
    },
    "kernelspec": {
      "name": "python3",
      "display_name": "Python 3"
    },
    "language_info": {
      "name": "python"
    }
  },
  "cells": [
    {
      "cell_type": "markdown",
      "source": [
        "Aula 1 -Introdução ao Flex e automação da análise léxica"
      ],
      "metadata": {
        "id": "poeZUjnV6HwA"
      }
    },
    {
      "cell_type": "code",
      "source": [
        "# Passo 1: Instalar o Flex e GCC no Google Colab\n",
        "!apt-get update\n",
        "!apt-get install flex\n",
        "!apt-get install gcc\n",
        "\n",
        "# Passo 2: Criar o arquivo de regras do Flex (.l)\n",
        "flex_code = \"\"\"\n",
        "%{\n",
        "#include <stdio.h>\n",
        "%}\n",
        "\n",
        "%%\n",
        "\n",
        "[0-9]+    { printf(\"Número: %s\\\\n\", yytext); }\n",
        "\"+\"       { printf(\"Operador: %s\\\\n\", yytext); }\n",
        "\n",
        "%%\n",
        "\n",
        "int yywrap(void) {\n",
        "    return 1;  // Definição simples para yywrap\n",
        "}\n",
        "\n",
        "int main() {\n",
        "    yylex();\n",
        "    return 0;\n",
        "}\n",
        "\"\"\"\n",
        "\n",
        "# Salvar o código Flex em um arquivo .l\n",
        "with open(\"lexer.l\", \"w\") as file:\n",
        "    file.write(flex_code)\n",
        "\n",
        "# Passo 3: Rodar o Flex para gerar o código C\n",
        "!flex lexer.l\n",
        "\n",
        "# Passo 4: Compilar o código C gerado com GCC\n",
        "!gcc -o lexer lex.yy.c\n",
        "\n",
        "# Passo 5: Rodar o lexer com uma entrada de exemplo\n",
        "!echo \"3 + 4\" | ./lexer\n"
      ],
      "metadata": {
        "colab": {
          "base_uri": "https://localhost:8080/"
        },
        "id": "JeqSPlGR6PYL",
        "outputId": "6299b44b-8443-4a17-904f-dbf5fd636bc1"
      },
      "execution_count": null,
      "outputs": [
        {
          "output_type": "stream",
          "name": "stdout",
          "text": [
            "\r0% [Working]\r            \rHit:1 https://cli.github.com/packages stable InRelease\n",
            "\r0% [Connecting to archive.ubuntu.com] [Connecting to security.ubuntu.com (185.1\r                                                                               \rHit:2 https://cloud.r-project.org/bin/linux/ubuntu jammy-cran40/ InRelease\n",
            "Hit:3 https://developer.download.nvidia.com/compute/cuda/repos/ubuntu2204/x86_64  InRelease\n",
            "Get:4 http://security.ubuntu.com/ubuntu jammy-security InRelease [129 kB]\n",
            "Hit:5 https://r2u.stat.illinois.edu/ubuntu jammy InRelease\n",
            "Hit:6 http://archive.ubuntu.com/ubuntu jammy InRelease\n",
            "Hit:7 http://archive.ubuntu.com/ubuntu jammy-updates InRelease\n",
            "Hit:8 https://ppa.launchpadcontent.net/deadsnakes/ppa/ubuntu jammy InRelease\n",
            "Hit:9 http://archive.ubuntu.com/ubuntu jammy-backports InRelease\n",
            "Hit:10 https://ppa.launchpadcontent.net/graphics-drivers/ppa/ubuntu jammy InRelease\n",
            "Hit:11 https://ppa.launchpadcontent.net/ubuntugis/ppa/ubuntu jammy InRelease\n",
            "Fetched 129 kB in 1s (100 kB/s)\n",
            "Reading package lists... Done\n",
            "W: Skipping acquire of configured file 'main/source/Sources' as repository 'https://r2u.stat.illinois.edu/ubuntu jammy InRelease' does not seem to provide it (sources.list entry misspelt?)\n",
            "Reading package lists... Done\n",
            "Building dependency tree... Done\n",
            "Reading state information... Done\n",
            "flex is already the newest version (2.6.4-8build2).\n",
            "0 upgraded, 0 newly installed, 0 to remove and 35 not upgraded.\n",
            "Reading package lists... Done\n",
            "Building dependency tree... Done\n",
            "Reading state information... Done\n",
            "gcc is already the newest version (4:11.2.0-1ubuntu1).\n",
            "0 upgraded, 0 newly installed, 0 to remove and 35 not upgraded.\n",
            "Número: 3\n",
            " Operador: +\n",
            " Número: 4\n",
            "\n"
          ]
        }
      ]
    },
    {
      "cell_type": "markdown",
      "source": [
        "Aula 2 -Criando analisadores léxicos com Flex (Colab)"
      ],
      "metadata": {
        "id": "WJQfV6VU8mGE"
      }
    },
    {
      "cell_type": "code",
      "source": [
        "# Passo 1: Instalar o Flex e GCC no Google Colab\n",
        "!apt-get update\n",
        "!apt-get install flex\n",
        "!apt-get install gcc\n",
        "\n",
        "# Passo 2: Criar o arquivo de regras do Flex (.l)\n",
        "flex_code = \"\"\"\n",
        "%{\n",
        "#include <stdio.h>\n",
        "%}\n",
        "\n",
        "%%\n",
        "\n",
        "[0-9]+        { printf(\"Número: %s\\\\n\", yytext); }  // Detecta números inteiros\n",
        "\"+\"           { printf(\"Operador de soma: %s\\\\n\", yytext); } // Detecta operador de soma\n",
        "\"-\"           { printf(\"Operador de subtração: %s\\\\n\", yytext); } // Detecta operador de subtração\n",
        "[a-zA-Z_][a-zA-Z_0-9]*  { printf(\"Identificador: %s\\\\n\", yytext); } // Detecta identificadores (variáveis)\n",
        "\n",
        "%%\n",
        "\n",
        "int yywrap(void) {\n",
        "    return 1;  // Definição simples para yywrap\n",
        "}\n",
        "\n",
        "int main() {\n",
        "    yylex();\n",
        "    return 0;\n",
        "}\n",
        "\"\"\"\n",
        "\n",
        "# Salvar o código Flex em um arquivo .l\n",
        "with open(\"lexer.l\", \"w\") as file:\n",
        "    file.write(flex_code)\n",
        "\n",
        "# Passo 3: Rodar o Flex para gerar o código C\n",
        "!flex lexer.l\n",
        "\n",
        "# Passo 4: Compilar o código C gerado com GCC\n",
        "!gcc -o lexer lex.yy.c\n",
        "\n",
        "# Passo 5: Rodar o lexer com uma entrada de exemplo\n",
        "!echo \"3 + 4\" | ./lexer\n"
      ],
      "metadata": {
        "colab": {
          "base_uri": "https://localhost:8080/"
        },
        "id": "toJC-Sbl8mVl",
        "outputId": "17bb152e-f60b-4fc8-fc45-6c8a2b701f27"
      },
      "execution_count": null,
      "outputs": [
        {
          "output_type": "stream",
          "name": "stdout",
          "text": [
            "\r0% [Working]\r            \rHit:1 https://cli.github.com/packages stable InRelease\n",
            "\r0% [Connecting to archive.ubuntu.com (185.125.190.83)] [Connecting to security.\r                                                                               \rHit:2 https://cloud.r-project.org/bin/linux/ubuntu jammy-cran40/ InRelease\n",
            "Hit:3 https://developer.download.nvidia.com/compute/cuda/repos/ubuntu2204/x86_64  InRelease\n",
            "Hit:4 http://security.ubuntu.com/ubuntu jammy-security InRelease\n",
            "Hit:5 https://r2u.stat.illinois.edu/ubuntu jammy InRelease\n",
            "Hit:6 http://archive.ubuntu.com/ubuntu jammy InRelease\n",
            "Hit:7 http://archive.ubuntu.com/ubuntu jammy-updates InRelease\n",
            "Hit:8 http://archive.ubuntu.com/ubuntu jammy-backports InRelease\n",
            "Hit:9 https://ppa.launchpadcontent.net/deadsnakes/ppa/ubuntu jammy InRelease\n",
            "Hit:10 https://ppa.launchpadcontent.net/graphics-drivers/ppa/ubuntu jammy InRelease\n",
            "Hit:11 https://ppa.launchpadcontent.net/ubuntugis/ppa/ubuntu jammy InRelease\n",
            "Reading package lists... Done\n",
            "W: Skipping acquire of configured file 'main/source/Sources' as repository 'https://r2u.stat.illinois.edu/ubuntu jammy InRelease' does not seem to provide it (sources.list entry misspelt?)\n",
            "Reading package lists... Done\n",
            "Building dependency tree... Done\n",
            "Reading state information... Done\n",
            "flex is already the newest version (2.6.4-8build2).\n",
            "0 upgraded, 0 newly installed, 0 to remove and 35 not upgraded.\n",
            "Reading package lists... Done\n",
            "Building dependency tree... Done\n",
            "Reading state information... Done\n",
            "gcc is already the newest version (4:11.2.0-1ubuntu1).\n",
            "0 upgraded, 0 newly installed, 0 to remove and 35 not upgraded.\n",
            "Número: 3\n",
            " Operador de soma: +\n",
            " Número: 4\n",
            "\n"
          ]
        }
      ]
    },
    {
      "cell_type": "markdown",
      "source": [
        "Aula 4 -Integração Flex com código Python"
      ],
      "metadata": {
        "id": "79z2JmQwE_Ql"
      }
    },
    {
      "cell_type": "markdown",
      "source": [
        "Passo 1: Instalar o Flex e GCC no Google Colab"
      ],
      "metadata": {
        "id": "fKJc5SEaQxDk"
      }
    },
    {
      "cell_type": "code",
      "source": [
        "# Passo 1: Instalar o Flex e GCC no Google Colab\n",
        "!apt-get update\n",
        "!apt-get install -y flex\n",
        "!apt-get install -y gcc\n",
        "\n",
        "# Debug: Verificar se os pacotes foram instalados corretamente\n",
        "!flex --version   # Verificar a versão do Flex instalado\n",
        "!gcc --version    # Verificar a versão do GCC instalado\n",
        "\n",
        "# Verificar se os pacotes estão instalados corretamente\n",
        "!which flex   # Verificar onde o Flex está instalado\n",
        "!which gcc    # Verificar onde o GCC está instalado\n"
      ],
      "metadata": {
        "colab": {
          "base_uri": "https://localhost:8080/"
        },
        "id": "9Iir5xK9SX7E",
        "outputId": "0e3294c8-14f9-4335-e8db-7ad246d29bda"
      },
      "execution_count": null,
      "outputs": [
        {
          "output_type": "stream",
          "name": "stdout",
          "text": [
            "\r0% [Working]\r            \rHit:1 https://cli.github.com/packages stable InRelease\n",
            "\r0% [Connecting to archive.ubuntu.com] [Connecting to security.ubuntu.com (91.18\r                                                                               \rHit:2 https://cloud.r-project.org/bin/linux/ubuntu jammy-cran40/ InRelease\n",
            "\r0% [Connecting to archive.ubuntu.com] [Waiting for headers] [Connected to r2u.s\r                                                                               \rHit:3 https://developer.download.nvidia.com/compute/cuda/repos/ubuntu2204/x86_64  InRelease\n",
            "Hit:4 http://security.ubuntu.com/ubuntu jammy-security InRelease\n",
            "Hit:5 https://r2u.stat.illinois.edu/ubuntu jammy InRelease\n",
            "Hit:6 http://archive.ubuntu.com/ubuntu jammy InRelease\n",
            "Hit:7 http://archive.ubuntu.com/ubuntu jammy-updates InRelease\n",
            "Hit:8 http://archive.ubuntu.com/ubuntu jammy-backports InRelease\n",
            "Hit:9 https://ppa.launchpadcontent.net/deadsnakes/ppa/ubuntu jammy InRelease\n",
            "Hit:10 https://ppa.launchpadcontent.net/graphics-drivers/ppa/ubuntu jammy InRelease\n",
            "Hit:11 https://ppa.launchpadcontent.net/ubuntugis/ppa/ubuntu jammy InRelease\n",
            "Reading package lists... Done\n",
            "W: Skipping acquire of configured file 'main/source/Sources' as repository 'https://r2u.stat.illinois.edu/ubuntu jammy InRelease' does not seem to provide it (sources.list entry misspelt?)\n",
            "Reading package lists... Done\n",
            "Building dependency tree... Done\n",
            "Reading state information... Done\n",
            "flex is already the newest version (2.6.4-8build2).\n",
            "0 upgraded, 0 newly installed, 0 to remove and 35 not upgraded.\n",
            "Reading package lists... Done\n",
            "Building dependency tree... Done\n",
            "Reading state information... Done\n",
            "gcc is already the newest version (4:11.2.0-1ubuntu1).\n",
            "0 upgraded, 0 newly installed, 0 to remove and 35 not upgraded.\n",
            "flex 2.6.4\n",
            "gcc (Ubuntu 11.4.0-1ubuntu1~22.04) 11.4.0\n",
            "Copyright (C) 2021 Free Software Foundation, Inc.\n",
            "This is free software; see the source for copying conditions.  There is NO\n",
            "warranty; not even for MERCHANTABILITY or FITNESS FOR A PARTICULAR PURPOSE.\n",
            "\n",
            "/usr/bin/flex\n",
            "/usr/bin/gcc\n"
          ]
        }
      ]
    },
    {
      "cell_type": "markdown",
      "source": [
        "Passo 2: Criar o arquivo Flex (lexer.l)"
      ],
      "metadata": {
        "id": "2XNlmYSSSjj8"
      }
    },
    {
      "cell_type": "code",
      "source": [
        "# Gera um lexer didático e também uma função run_lexer(const char*)\n",
        "lexer_l = r\"\"\"\n",
        "%option noyywrap\n",
        "\n",
        "%{\n",
        "#include <stdio.h>\n",
        "\n",
        "/* Forward declarations (sem redefinir tipos do Flex) */\n",
        "struct yy_buffer_state;\n",
        "int yylex(void);\n",
        "struct yy_buffer_state* yy_scan_string(const char* str);\n",
        "void yy_delete_buffer(struct yy_buffer_state* buf);\n",
        "\n",
        "/* Função que expomos (opcional para integrar com Python) */\n",
        "void run_lexer(const char* input);\n",
        "%}\n",
        "\n",
        "/* --------- Regras simples --------- */\n",
        "%%\n",
        "[0-9]+                      { printf(\"Número: %s\\n\", yytext); }\n",
        "\"+\"|\"-\"                     { printf(\"Operador: %s\\n\", yytext); }\n",
        "[a-zA-Z_][a-zA-Z_0-9]*      { printf(\"Identificador: %s\\n\", yytext); }\n",
        "[ \\t\\r\\n]+                  { /* ignora espaços e quebras */ }\n",
        ".                           { printf(\"Desconhecido: %s\\n\", yytext); }\n",
        "%%\n",
        "\n",
        "void run_lexer(const char* input) {\n",
        "    struct yy_buffer_state* buf = yy_scan_string(input);\n",
        "    yylex();\n",
        "    yy_delete_buffer(buf);\n",
        "}\n",
        "\"\"\"\n",
        "\n",
        "# Um \"runner\" com main() para usar via shell: echo \"expr\" | ./lexer\n",
        "runner_c = r\"\"\"\n",
        "#include <stdio.h>\n",
        "#include <stdlib.h>\n",
        "\n",
        "void run_lexer(const char* input);\n",
        "\n",
        "int main(void) {\n",
        "    char buf[8192];\n",
        "    size_t n = fread(buf, 1, sizeof(buf)-1, stdin);\n",
        "    buf[n] = '\\0';\n",
        "    run_lexer(buf);\n",
        "    return 0;\n",
        "}\n",
        "\"\"\"\n",
        "\n",
        "# Gravar arquivos\n",
        "with open(\"lexer.l\", \"w\") as f: f.write(lexer_l)\n",
        "with open(\"runner.c\", \"w\") as f: f.write(runner_c)\n",
        "\n",
        "# Gerar lex.yy.c com o Flex\n",
        "!flex -o lex.yy.c lexer.l\n",
        "\n",
        "# 1) Compilar biblioteca compartilhada (opcional, para integração com Python)\n",
        "!gcc -shared -fPIC -o lexer.so lex.yy.c\n",
        "\n",
        "# 2) Compilar executável \"lexer\" com o runner\n",
        "!gcc runner.c lex.yy.c -o lexer\n",
        "\n",
        "# DEBUG: conferir artefatos\n",
        "!ls -lh lexer.l runner.c lex.yy.c lexer.so lexer\n",
        "!nm -D lexer.so | grep -E 'run_lexer|yylex' || echo \"símbolos não encontrados\"\n",
        "!file lexer\n"
      ],
      "metadata": {
        "colab": {
          "base_uri": "https://localhost:8080/"
        },
        "id": "PvaBAD57Sn2i",
        "outputId": "ff5df9b3-cb31-428e-f0f8-2eadfc4a2aca"
      },
      "execution_count": null,
      "outputs": [
        {
          "output_type": "stream",
          "name": "stdout",
          "text": [
            "-rwxr-xr-x 1 root root 27K Aug 17 04:46 lexer\n",
            "-rw-r--r-- 1 root root 871 Aug 17 04:46 lexer.l\n",
            "-rwxr-xr-x 1 root root 31K Aug 17 04:46 lexer.so\n",
            "-rw-r--r-- 1 root root 45K Aug 17 04:46 lex.yy.c\n",
            "-rw-r--r-- 1 root root 221 Aug 17 04:46 runner.c\n",
            "0000000000004310 T run_lexer\n",
            "0000000000002499 T yylex\n",
            "00000000000041fd T yylex_destroy\n",
            "lexer: ELF 64-bit LSB pie executable, x86-64, version 1 (SYSV), dynamically linked, interpreter /lib64/ld-linux-x86-64.so.2, BuildID[sha1]=56d2c3fe66098242869b2eddb2ff7d9e03ce7cee, for GNU/Linux 3.2.0, not stripped\n"
          ]
        }
      ]
    },
    {
      "cell_type": "markdown",
      "source": [
        "TESTAR"
      ],
      "metadata": {
        "id": "MljhHjtQSvEm"
      }
    },
    {
      "cell_type": "code",
      "source": [
        "# Testes simples via shell (os alunos podem trocar as expressões à vontade)\n",
        "!echo \"x = 3 + 4 - y\" | ./lexer\n",
        "!echo \"soma10 - var2 + 77\" | ./lexer\n",
        "!echo \"if x1 - y2\" | ./lexer\n"
      ],
      "metadata": {
        "colab": {
          "base_uri": "https://localhost:8080/"
        },
        "id": "MYqyArCoS0n_",
        "outputId": "f40164d9-745b-4d8d-9703-14064384f6ea"
      },
      "execution_count": null,
      "outputs": [
        {
          "output_type": "stream",
          "name": "stdout",
          "text": [
            "Identificador: x\n",
            "Desconhecido: =\n",
            "Número: 3\n",
            "Operador: +\n",
            "Número: 4\n",
            "Operador: -\n",
            "Identificador: y\n",
            "Identificador: soma10\n",
            "Operador: -\n",
            "Identificador: var2\n",
            "Operador: +\n",
            "Número: 77\n",
            "Identificador: if\n",
            "Identificador: x1\n",
            "Operador: -\n",
            "Identificador: y2\n"
          ]
        }
      ]
    },
    {
      "cell_type": "code",
      "source": [
        "# Carrega a .so com nome ÚNICO (evita cache do loader)\n",
        "import shutil, time, os, sys, subprocess, shlex\n",
        "from ctypes import CDLL, CFUNCTYPE, c_char_p\n",
        "\n",
        "src = \"/content/lexer.so\"\n",
        "dst = f\"/content/lexer_py_{int(time.time())}.so\"\n",
        "shutil.copy(src, dst)\n",
        "print(\"Carregando:\", dst)\n",
        "\n",
        "# (debug opcional) confirmar que run_lexer está exportado\n",
        "print(subprocess.run(shlex.split(f\"nm -D {dst} | grep run_lexer\"),\n",
        "                     capture_output=True, text=True).stdout or \"run_lexer NÃO encontrado\")\n",
        "\n",
        "lib = CDLL(dst)  # carrega a cópia “nova”\n",
        "RunLexer = CFUNCTYPE(None, c_char_p)((\"run_lexer\", lib))  # void run_lexer(const char*)\n",
        "\n",
        "def _capture_c_stdout(callable_noargs):\n",
        "    \"\"\"Redireciona FD 1 (stdout) do processo para capturar printf do C.\"\"\"\n",
        "    r_fd, w_fd = os.pipe()\n",
        "    saved = os.dup(1)\n",
        "    os.dup2(w_fd, 1)\n",
        "    try:\n",
        "        callable_noargs()\n",
        "        sys.stdout.flush()\n",
        "    finally:\n",
        "        os.close(w_fd)\n",
        "        os.dup2(saved, 1)\n",
        "        os.close(saved)\n",
        "    data = os.read(r_fd, 1 << 20)\n",
        "    os.close(r_fd)\n",
        "    return data.decode(\"utf-8\", errors=\"replace\")\n",
        "\n",
        "def analisar(expr: str) -> str:\n",
        "    return _capture_c_stdout(lambda: RunLexer(expr.encode(\"utf-8\")))\n",
        "\n",
        "def testar(expr: str):\n",
        "    print(f\"\\n>>> Entrada: {expr}\")\n",
        "    print(analisar(expr), end=\"\")\n",
        "    print(\"--- fim ---\")\n",
        "\n",
        "# Exemplos didáticos (altere à vontade)\n",
        "testar(\"x = 3 + 4 - y\")\n",
        "testar(\"soma10 - var2 + 77\")\n",
        "testar(\"if x1 - y2\")\n"
      ],
      "metadata": {
        "colab": {
          "base_uri": "https://localhost:8080/"
        },
        "id": "-cp2HPu9W9yH",
        "outputId": "257f8ab3-9572-425a-dc10-88a73eb301f4"
      },
      "execution_count": null,
      "outputs": [
        {
          "output_type": "stream",
          "name": "stdout",
          "text": [
            "Carregando: /content/lexer_py_1755406210.so\n",
            "\n",
            "/content/lexer_py_1755406210.so:\n",
            "                 U clearerr@GLIBC_2.2.5\n",
            "                 w __cxa_finalize@GLIBC_2.2.5\n",
            "                 U __errno_location@GLIBC_2.2.5\n",
            "                 U exit@GLIBC_2.2.5\n",
            "                 U ferror@GLIBC_2.2.5\n",
            "                 U fileno@GLIBC_2.2.5\n",
            "                 U fprintf@GLIBC_2.2.5\n",
            "                 U fread@GLIBC_2.2.5\n",
            "                 U free@GLIBC_2.2.5\n",
            "                 U fwrite@GLIBC_2.2.5\n",
            "                 U getc@GLIBC_2.2.5\n",
            "                 w __gmon_start__\n",
            "                 U isatty@GLIBC_2.2.5\n",
            "                 w _ITM_deregisterTMCloneTable\n",
            "                 w _ITM_registerTMCloneTable\n",
            "                 U malloc@GLIBC_2.2.5\n",
            "                 U memset@GLIBC_2.2.5\n",
            "                 U printf@GLIBC_2.2.5\n",
            "                 U realloc@GLIBC_2.2.5\n",
            "0000000000004310 T run_lexer\n",
            "                 U stderr@GLIBC_2.2.5\n",
            "                 U stdin@GLIBC_2.2.5\n",
            "                 U stdout@GLIBC_2.2.5\n",
            "                 U strlen@GLIBC_2.2.5\n",
            "00000000000042aa T yyalloc\n",
            "00000000000038a8 T yy_create_buffer\n",
            "0000000000003945 T yy_delete_buffer\n",
            "0000000000007130 B yy_flex_debug\n",
            "0000000000003a9a T yy_flush_buffer\n",
            "00000000000042f1 T yyfree\n",
            "0000000000004165 T yyget_debug\n",
            "00000000000040c2 T yyget_in\n",
            "00000000000040ea T yyget_leng\n",
            "00000000000040af T yyget_lineno\n",
            "00000000000040d6 T yyget_out\n",
            "00000000000040fd T yyget_text\n",
            "0000000000007120 B yyin\n",
            "0000000000007118 B yyleng\n",
            "0000000000002499 T yylex\n",
            "00000000000041fd T yylex_destroy\n",
            "0000000000007108 D yylineno\n",
            "0000000000007128 B yyout\n",
            "0000000000003c43 T yypop_buffer_state\n",
            "0000000000003b3b T yypush_buffer_state\n",
            "00000000000042c8 T yyrealloc\n",
            "0000000000003667 T yyrestart\n",
            "0000000000003e63 T yy_scan_buffer\n",
            "0000000000003f94 T yy_scan_bytes\n",
            "0000000000003f66 T yy_scan_string\n",
            "0000000000004178 T yyset_debug\n",
            "000000000000412b T yyset_in\n",
            "0000000000004111 T yyset_lineno\n",
            "0000000000004148 T yyset_out\n",
            "000000000000371c T yy_switch_to_buffer\n",
            "0000000000007138 B yytext\n",
            "\n",
            "\n",
            ">>> Entrada: x = 3 + 4 - y\n",
            "--- fim ---\n",
            "\n",
            ">>> Entrada: soma10 - var2 + 77\n",
            "--- fim ---\n",
            "\n",
            ">>> Entrada: if x1 - y2\n",
            "--- fim ---\n"
          ]
        }
      ]
    }
  ]
}