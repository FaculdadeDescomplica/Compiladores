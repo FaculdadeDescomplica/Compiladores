{
  "nbformat": 4,
  "nbformat_minor": 0,
  "metadata": {
    "colab": {
      "provenance": []
    },
    "kernelspec": {
      "name": "python3",
      "display_name": "Python 3"
    },
    "language_info": {
      "name": "python"
    }
  },
  "cells": [
    {
      "cell_type": "markdown",
      "source": [
        "Aula 1 - Otimização de loops"
      ],
      "metadata": {
        "id": "THmYt0jgMaw8"
      }
    },
    {
      "cell_type": "markdown",
      "source": [
        "Passo 1: Código Não Otimizado"
      ],
      "metadata": {
        "id": "cYIeKTSENoHW"
      }
    },
    {
      "cell_type": "code",
      "source": [
        "# Código não otimizado - soma de 1 a N\n",
        "def sum_numbers_no_optimization(n):\n",
        "    result = 0\n",
        "    for i in range(1, n + 1):\n",
        "        result += i\n",
        "    return result\n",
        "\n",
        "# Testando com n = 1000000\n",
        "n = 1000000\n",
        "print(f\"Soma de 1 a {n}: {sum_numbers_no_optimization(n)}\")\n"
      ],
      "metadata": {
        "colab": {
          "base_uri": "https://localhost:8080/"
        },
        "id": "2c-qIq7FNlRg",
        "outputId": "bdb9fa10-f7ed-48bf-ac9c-78b876237337"
      },
      "execution_count": 1,
      "outputs": [
        {
          "output_type": "stream",
          "name": "stdout",
          "text": [
            "Soma de 1 a 1000000: 500000500000\n"
          ]
        }
      ]
    },
    {
      "cell_type": "markdown",
      "source": [
        "Passo 2: Otimização do Loop"
      ],
      "metadata": {
        "id": "L8QgHn8hNwcm"
      }
    },
    {
      "cell_type": "code",
      "source": [
        "# Código otimizado - loop unrolling\n",
        "def sum_numbers_optimized(n):\n",
        "    result = 0\n",
        "    i = 1\n",
        "\n",
        "    # Desenrolando o loop para reduzir o overhead de controle\n",
        "    # Vamos somar 4 números de cada vez\n",
        "    for i in range(1, n, 4):\n",
        "        result += i + (i + 1) + (i + 2) + (i + 3)\n",
        "\n",
        "    # Lidar com os últimos números caso o n não seja múltiplo de 4\n",
        "    for i in range(n - (n % 4), n):\n",
        "        result += i\n",
        "\n",
        "    return result\n",
        "\n",
        "# Testando com n = 1000000\n",
        "n = 1000000\n",
        "print(f\"Soma otimizada de 1 a {n}: {sum_numbers_optimized(n)}\")\n"
      ],
      "metadata": {
        "colab": {
          "base_uri": "https://localhost:8080/"
        },
        "id": "2rx9ESsZNxvb",
        "outputId": "60df7dc3-7b01-4147-f3d2-055d672e277a"
      },
      "execution_count": 2,
      "outputs": [
        {
          "output_type": "stream",
          "name": "stdout",
          "text": [
            "Soma otimizada de 1 a 1000000: 500000500000\n"
          ]
        }
      ]
    },
    {
      "cell_type": "markdown",
      "source": [
        "Passo 3: Comparação de Tempo de Execução"
      ],
      "metadata": {
        "id": "uqE9iYfbNqns"
      }
    },
    {
      "cell_type": "code",
      "source": [
        "import timeit\n",
        "\n",
        "# Medindo o tempo de execução do código não otimizado\n",
        "time_no_optimization = timeit.timeit('sum_numbers_no_optimization(1000000)', globals=globals(), number=10)\n",
        "\n",
        "# Medindo o tempo de execução do código otimizado\n",
        "time_optimized = timeit.timeit('sum_numbers_optimized(1000000)', globals=globals(), number=10)\n",
        "\n",
        "print(f\"Tempo sem otimização: {time_no_optimization:.6f} segundos\")\n",
        "print(f\"Tempo com otimização: {time_optimized:.6f} segundos\")\n"
      ],
      "metadata": {
        "colab": {
          "base_uri": "https://localhost:8080/"
        },
        "id": "RfhyYseqN3yl",
        "outputId": "518b4299-2f6b-4db8-bb47-e74951b296fa"
      },
      "execution_count": 3,
      "outputs": [
        {
          "output_type": "stream",
          "name": "stdout",
          "text": [
            "Tempo sem otimização: 0.499906 segundos\n",
            "Tempo com otimização: 0.399119 segundos\n"
          ]
        }
      ]
    },
    {
      "cell_type": "markdown",
      "source": [
        "Aula 2 -"
      ],
      "metadata": {
        "id": "OHPctxF2N6gs"
      }
    }
  ]
}