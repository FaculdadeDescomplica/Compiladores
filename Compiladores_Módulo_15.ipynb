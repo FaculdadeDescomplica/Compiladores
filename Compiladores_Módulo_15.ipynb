{
  "nbformat": 4,
  "nbformat_minor": 0,
  "metadata": {
    "colab": {
      "provenance": []
    },
    "kernelspec": {
      "name": "python3",
      "display_name": "Python 3"
    },
    "language_info": {
      "name": "python"
    }
  },
  "cells": [
    {
      "cell_type": "code",
      "source": [
        "# Simulador de Compilador - Analisador Léxico e Sintático Simples\n",
        "\n",
        "# Função para fazer a análise léxica\n",
        "def analisador_lexico(codigo):\n",
        "    tokens = []\n",
        "    i = 0\n",
        "    while i < len(codigo):\n",
        "        char = codigo[i]\n",
        "\n",
        "        if char.isdigit():  # Se for um número\n",
        "            num = ''\n",
        "            while i < len(codigo) and codigo[i].isdigit():\n",
        "                num += codigo[i]\n",
        "                i += 1\n",
        "            tokens.append(('NUMBER', num))\n",
        "        elif char == '+':\n",
        "            tokens.append(('PLUS', char))\n",
        "            i += 1\n",
        "        elif char == '*':\n",
        "            tokens.append(('TIMES', char))\n",
        "            i += 1\n",
        "        elif char == '(':\n",
        "            tokens.append(('LPAREN', char))\n",
        "            i += 1\n",
        "        elif char == ')':\n",
        "            tokens.append(('RPAREN', char))\n",
        "            i += 1\n",
        "        elif char == ' ':\n",
        "            i += 1\n",
        "        else:\n",
        "            raise SyntaxError(f\"Caractere inválido: {char}\")\n",
        "\n",
        "    tokens.append(('EOF', ''))  # Fim do código\n",
        "    return tokens\n",
        "\n",
        "# Função para fazer a análise sintática simples (para expressões de adição e multiplicação)\n",
        "def analisador_sintatico(tokens):\n",
        "    pos = 0  # Inicializando a posição\n",
        "\n",
        "    def parse_expression():\n",
        "        nonlocal pos\n",
        "        # A expressão pode ser um número, ou uma expressão dentro de parênteses\n",
        "        if tokens[pos][0] == 'NUMBER':\n",
        "            num = tokens[pos][1]\n",
        "            pos += 1\n",
        "            return num\n",
        "        elif tokens[pos][0] == 'LPAREN':\n",
        "            pos += 1\n",
        "            expr = parse_expression()\n",
        "            if tokens[pos][0] != 'RPAREN':\n",
        "                raise SyntaxError(\"Esperava um parêntese fechado ')'\")\n",
        "            pos += 1\n",
        "            return expr\n",
        "        else:\n",
        "            raise SyntaxError(\"Esperava um número ou parêntese aberto '('\")\n",
        "\n",
        "    def parse_term():\n",
        "        nonlocal pos\n",
        "        # Um termo pode ser um número ou uma expressão, seguido de multiplicação\n",
        "        expr = parse_expression()\n",
        "        while pos < len(tokens) and tokens[pos][0] == 'TIMES':\n",
        "            pos += 1\n",
        "            expr += ' * ' + parse_expression()\n",
        "        return expr\n",
        "\n",
        "    def parse():\n",
        "        nonlocal pos\n",
        "        # A expressão pode ter soma (+) entre termos\n",
        "        expr = parse_term()\n",
        "        while pos < len(tokens) and tokens[pos][0] == 'PLUS':\n",
        "            pos += 1\n",
        "            expr = f\"({expr} + {parse_term()})\"\n",
        "        return expr\n",
        "\n",
        "    return parse()\n",
        "\n",
        "# Função para simular a execução do compilador\n",
        "def executar_compilador(codigo):\n",
        "    tokens = analisador_lexico(codigo)  # Primeira fase: análise léxica\n",
        "    print(f\"Tokens: {tokens}\")\n",
        "\n",
        "    # Segunda fase: análise sintática\n",
        "    resultado = analisador_sintatico(tokens)\n",
        "    print(f\"Resultado (expressão compilada): {resultado}\")\n",
        "\n",
        "    return resultado\n",
        "\n",
        "# Teste de exemplo\n",
        "entrada = '3 + 5 * 2'\n",
        "resultado = executar_compilador(entrada)\n",
        "print(f\"Saída: {resultado}\")\n"
      ],
      "metadata": {
        "colab": {
          "base_uri": "https://localhost:8080/"
        },
        "id": "X9AihzFhKf2H",
        "outputId": "0a0a1d90-2ab5-48ee-d0ae-8851d708d92c"
      },
      "execution_count": 19,
      "outputs": [
        {
          "output_type": "stream",
          "name": "stdout",
          "text": [
            "Tokens: [('NUMBER', '3'), ('PLUS', '+'), ('NUMBER', '5'), ('TIMES', '*'), ('NUMBER', '2'), ('EOF', '')]\n",
            "Resultado (expressão compilada): (3 + 5 * 2)\n",
            "Saída: (3 + 5 * 2)\n"
          ]
        }
      ]
    }
  ]
}