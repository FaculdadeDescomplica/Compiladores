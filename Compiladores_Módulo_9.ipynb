{
  "nbformat": 4,
  "nbformat_minor": 0,
  "metadata": {
    "colab": {
      "provenance": []
    },
    "kernelspec": {
      "name": "python3",
      "display_name": "Python 3"
    },
    "language_info": {
      "name": "python"
    }
  },
  "cells": [
    {
      "cell_type": "markdown",
      "source": [
        "Aula 3 -Traduzindo expressões aritméticas (Colab)"
      ],
      "metadata": {
        "id": "oCe0RagF6QHP"
      }
    },
    {
      "cell_type": "code",
      "source": [
        "# Função para converter uma expressão aritmética para TAC\n",
        "def convert_to_TAC(expr):\n",
        "    # Simples análise para converter expressões\n",
        "    tokens = expr.split()\n",
        "    tac = []\n",
        "    temp_var = 1\n",
        "    while \"*\" in tokens or \"+\" in tokens:\n",
        "        if \"*\" in tokens:\n",
        "            i = tokens.index(\"*\")\n",
        "            tac.append(f\"t{temp_var} = {tokens[i-1]} * {tokens[i+1]}\")\n",
        "            tokens[i-1:i+2] = [f\"t{temp_var}\"]\n",
        "            temp_var += 1\n",
        "        elif \"+\" in tokens:\n",
        "            i = tokens.index(\"+\")\n",
        "            tac.append(f\"t{temp_var} = {tokens[i-1]} + {tokens[i+1]}\")\n",
        "            tokens[i-1:i+2] = [f\"t{temp_var}\"]\n",
        "            temp_var += 1\n",
        "    return tac\n",
        "\n",
        "expr = \"a = (b + c) * d + e\"\n",
        "print(\"TAC:\", convert_to_TAC(expr))"
      ],
      "metadata": {
        "colab": {
          "base_uri": "https://localhost:8080/"
        },
        "id": "tAk9iZPJ6TtI",
        "outputId": "e931d616-f1ac-4f9c-93ab-3f63c276de74"
      },
      "execution_count": 1,
      "outputs": [
        {
          "output_type": "stream",
          "name": "stdout",
          "text": [
            "TAC: ['t1 = c) * d', 't2 = (b + t1', 't3 = t2 + e']\n"
          ]
        }
      ]
    },
    {
      "cell_type": "markdown",
      "source": [
        "Aula 4 - Código intermediário na prática (AST)"
      ],
      "metadata": {
        "id": "XU1_1NqM7PNF"
      }
    },
    {
      "cell_type": "code",
      "source": [
        "class ASTNode:\n",
        "    def __init__(self, op, left=None, right=None):\n",
        "        self.op = op\n",
        "        self.left = left\n",
        "        self.right = right\n",
        "\n",
        "# Função para construir a AST\n",
        "def build_AST(expr):\n",
        "    tokens = expr.split()\n",
        "    left = ASTNode('b')\n",
        "    right = ASTNode('*', ASTNode('c'), ASTNode('d'))\n",
        "    return ASTNode('=', left, right)\n",
        "\n",
        "# Exemplo de AST\n",
        "ast = build_AST(\"a = b + c * d\")\n",
        "print(f'Raiz: {ast.op}, Filho esquerdo: {ast.left.op}, Filho direito: {ast.right.op}')\n"
      ],
      "metadata": {
        "colab": {
          "base_uri": "https://localhost:8080/"
        },
        "id": "uZDT388i7QmA",
        "outputId": "5da43e6b-929f-4403-83e9-8f386d2749fe"
      },
      "execution_count": 2,
      "outputs": [
        {
          "output_type": "stream",
          "name": "stdout",
          "text": [
            "Raiz: =, Filho esquerdo: b, Filho direito: *\n"
          ]
        }
      ]
    },
    {
      "cell_type": "markdown",
      "source": [
        "Simulador de execução intermediária"
      ],
      "metadata": {
        "id": "fKMeWkqK9Wcx"
      }
    },
    {
      "cell_type": "code",
      "source": [
        "# Simulador simples para execução de TAC\n",
        "def run_simulator(tac, variables):\n",
        "    memory = variables.copy()  # Inicializa a memória com as variáveis fornecidas\n",
        "    for line in tac:\n",
        "        if '=' in line:\n",
        "            var, expr = line.split('=')\n",
        "            var = var.strip()\n",
        "            expr = expr.strip()\n",
        "\n",
        "            # Verifica se a expressão tem um operador de soma (+)\n",
        "            if '+' in expr:\n",
        "                left, right = expr.split('+')\n",
        "                left = memory.get(left.strip(), 0)\n",
        "                right = memory.get(right.strip(), 0)\n",
        "                memory[var] = left + right\n",
        "            else:\n",
        "                # Se não for soma, tenta converter diretamente para um número\n",
        "                try:\n",
        "                    memory[var] = int(expr)  # Caso seja um número direto\n",
        "                except ValueError:\n",
        "                    memory[var] = memory.get(expr, 0)  # Se for uma variável, pega o valor dela\n",
        "    return memory\n",
        "\n",
        "# Exemplo de TAC para teste\n",
        "tac = [\"t1 = 5\", \"t2 = t1 + 3\", \"a = t2\"]\n",
        "variables = {'t1': 5}  # Inicializa a variável t1 com valor 5\n",
        "\n",
        "result = run_simulator(tac, variables)\n",
        "print(result)\n"
      ],
      "metadata": {
        "colab": {
          "base_uri": "https://localhost:8080/"
        },
        "id": "6lPEgg23_ea8",
        "outputId": "001dc45c-7b07-4eee-efdb-249c5faeed17"
      },
      "execution_count": 4,
      "outputs": [
        {
          "output_type": "stream",
          "name": "stdout",
          "text": [
            "{'t1': 5, 't2': 5, 'a': 5}\n"
          ]
        }
      ]
    }
  ]
}